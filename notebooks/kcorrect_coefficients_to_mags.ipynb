{
 "cells": [
  {
   "cell_type": "code",
   "execution_count": 1,
   "id": "b593b5d9-7789-4522-a392-b95e60078cd9",
   "metadata": {},
   "outputs": [
    {
     "name": "stderr",
     "output_type": "stream",
     "text": [
      "WARNING: CacheMissingWarning: Remote data cache could not be accessed due to OSError: [Errno 30] Read-only file system: '/srv/cache/astropy/download' [astropy.utils.data]\n",
      "WARNING: CacheMissingWarning: Not clearing data cache - cache inaccessible due to OSError: [Errno 30] Read-only file system: '/srv/cache/astropy/download' [astropy.utils.data]\n",
      "WARNING: CacheMissingWarning: ('Cache directory cannot be read or created, providing data in temporary file instead.', '/tmp/astropy-download-47639-zk06llk0') [astropy.utils.data]\n"
     ]
    }
   ],
   "source": [
    "%matplotlib inline\n",
    "import matplotlib.pyplot as plt\n",
    "import numpy as np\n",
    "from PyAddgals.config import parseConfig\n",
    "from PyAddgals.cosmology import Cosmology\n",
    "from PyAddgals.domain import Domain\n",
    "from PyAddgals.nBody import NBody\n",
    "from PyAddgals.addgalsModel import ADDGALSModel\n",
    "import PyAddgals.config as config_mod\n",
    "from PyAddgals.kcorrect import KCorrect, k_reconstruct_maggies\n",
    "\n",
    "\n",
    "import fitsio"
   ]
  },
  {
   "cell_type": "code",
   "execution_count": 2,
   "id": "18fc9a1d-9337-45fd-8b3c-b26f589e7a69",
   "metadata": {},
   "outputs": [
    {
     "name": "stderr",
     "output_type": "stream",
     "text": [
      "/usr/local/lib/python3.7/dist-packages/pyaddgals-1.0-py3.7.egg/PyAddgals/config.py:10: YAMLLoadWarning: calling yaml.load() without Loader=... is deprecated, as the default Loader is unsafe. Please read https://msg.pyyaml.org/load for full details.\n",
      "  cfg = yaml.load(fp)\n"
     ]
    },
    {
     "name": "stdout",
     "output_type": "stream",
     "text": [
      "[0]: fit       fun: 110.4807501177961\n",
      " hess_inv: <2x2 LbfgsInvHessProduct with dtype=float64>\n",
      "      jac: array([ 1.49514077e-06, -5.72071440e-06])\n",
      "  message: b'CONVERGENCE: NORM_OF_PROJECTED_GRADIENT_<=_PGTOL'\n",
      "     nfev: 20\n",
      "      nit: 12\n",
      "   status: 0\n",
      "  success: True\n",
      "        x: array([-2.32924221, -2.32158503])\n",
      "[0]: fit       fun: -1140.4921643165346\n",
      " hess_inv: <2x2 LbfgsInvHessProduct with dtype=float64>\n",
      "      jac: array([-4.25188905e-05,  1.77867940e-04])\n",
      "  message: b'CONVERGENCE: REL_REDUCTION_OF_F_<=_FACTR*EPSMCH'\n",
      "     nfev: 17\n",
      "      nit: 12\n",
      "   status: 0\n",
      "  success: True\n",
      "        x: array([-2.02755141, -1.57427751])\n",
      "[0]: fit       fun: -1267.867260494131\n",
      " hess_inv: <2x2 LbfgsInvHessProduct with dtype=float64>\n",
      "      jac: array([-3.53569963e-07,  5.77876563e-07])\n",
      "  message: b'CONVERGENCE: NORM_OF_PROJECTED_GRADIENT_<=_PGTOL'\n",
      "     nfev: 15\n",
      "      nit: 12\n",
      "   status: 0\n",
      "  success: True\n",
      "        x: array([-4.06535248, -0.7944941 ])\n",
      "[0]: fit       fun: -41.09275933548224\n",
      " hess_inv: <2x2 LbfgsInvHessProduct with dtype=float64>\n",
      "      jac: array([-3.27262926e-06,  1.25118531e-05])\n",
      "  message: b'CONVERGENCE: REL_REDUCTION_OF_F_<=_FACTR*EPSMCH'\n",
      "     nfev: 22\n",
      "      nit: 14\n",
      "   status: 0\n",
      "  success: True\n",
      "        x: array([-1.87337816, -2.55106948])\n",
      "[0]: fit       fun: 472.6492040899759\n",
      " hess_inv: <2x2 LbfgsInvHessProduct with dtype=float64>\n",
      "      jac: array([-6.46477976e-05,  3.07534181e-04])\n",
      "  message: b'CONVERGENCE: REL_REDUCTION_OF_F_<=_FACTR*EPSMCH'\n",
      "     nfev: 17\n",
      "      nit: 13\n",
      "   status: 0\n",
      "  success: True\n",
      "        x: array([-1.37366478, -5.2929466 ])\n"
     ]
    }
   ],
   "source": [
    "config_file = '../data/addgals_sdss.cfg'\n",
    "\n",
    "config = parseConfig(config_file)\n",
    "\n",
    "comm = None\n",
    "\n",
    "cc = config['Cosmology']\n",
    "nb_config = config['NBody']\n",
    "\n",
    "cosmo = Cosmology(**cc)\n",
    "\n",
    "domain = Domain(cosmo, **nb_config.pop('Domain'))\n",
    "domain.decomp(comm, 0, 1)\n",
    "\n",
    "for d in domain.yieldDomains():\n",
    "    nbody = NBody(cosmo, d, **nb_config)\n",
    "    break\n",
    "\n",
    "model = ADDGALSModel(nbody, **config['GalaxyModel']['ADDGALSModel'])"
   ]
  },
  {
   "cell_type": "code",
   "execution_count": 10,
   "id": "895c471c-7b3a-4956-b82a-8891d6ed9009",
   "metadata": {},
   "outputs": [],
   "source": [
    "#create a kcorrect object, that knows how to compute fluxes from a set of templates and kcorrect coefficients\n",
    "#right now, we use a default set of templates, but modifying emission lines will just be a matter\n",
    "#of adding to and augmenting these templates\n",
    "kcorr = KCorrect(template_name='default')\n"
   ]
  },
  {
   "cell_type": "code",
   "execution_count": 15,
   "id": "a3b68f80-e554-4288-b2f8-8039853cfd21",
   "metadata": {},
   "outputs": [],
   "source": [
    "fitsio.write('../data/z.fits', z[::100], clobber=True)\n",
    "fitsio.write('../data/sed_id.fits', sed_idx[::100], clobber=True)\n",
    "fitsio.write('../data/mag_r.fits', mag[::100], clobber=True)"
   ]
  },
  {
   "cell_type": "code",
   "execution_count": 16,
   "id": "5dc54212-900a-4cd4-8456-d88fb7128fc3",
   "metadata": {},
   "outputs": [],
   "source": [
    "#get kcorrect coefficients\n",
    "z = fitsio.read('../data/z.fits')\n",
    "sed_idx = fitsio.read('../data/sed_id.fits')\n",
    "mag = fitsio.read('../data/mag_r.fits')\n",
    "\n",
    "coeffs = model.colorModel.trainingSet[sed_idx]['COEFFS']\n"
   ]
  },
  {
   "cell_type": "code",
   "execution_count": 11,
   "id": "023bb86c-9148-4721-898e-23b9016a1ea0",
   "metadata": {},
   "outputs": [],
   "source": [
    "# calculate sdss r band absolute magnitude in order\n",
    "# to renormalize the kcorrect coefficients to give\n",
    "# the correct absolute magnitudes for the simulated\n",
    "# galaxies\n",
    "sdss_r_name = ['sdss/sdss_r0.par']\n",
    "filter_lambda, filter_pass = kcorr.load_filters(sdss_r_name)\n",
    "\n",
    "rmatrix = kcorr.k_projection_table(filter_pass, filter_lambda, [0.1])\n",
    "rmatrix0 = kcorr.k_projection_table(filter_pass, filter_lambda, [0.0])\n",
    "\n",
    "amag = k_reconstruct_maggies(rmatrix.astype(np.float64),\n",
    "                             coeffs.astype(np.float64),\n",
    "                             np.zeros_like(z).astype(np.float64),\n",
    "                             kcorr.zvals.astype(np.float64))\n",
    "\n",
    "omag = k_reconstruct_maggies(rmatrix0.astype(np.float64),\n",
    "                             coeffs.astype(np.float64),\n",
    "                             z.astype(np.float64),\n",
    "                             kcorr.zvals.astype(np.float64))\n",
    "\n",
    "#k correction\n",
    "kc = 2.5 * np.log10(amag / omag)\n",
    "\n",
    "#compute distance modulus in order to get absolute magnitude\n",
    "a = 1 / (1 + z)\n",
    "amax = 1 / (1 + 1e-7)\n",
    "a[a > amax] = amax\n",
    "\n",
    "omag = -2.5 * np.log10(omag)\n",
    "dm = nbody.cosmo.distanceModulus(1 / a - 1)\n",
    "amag = omag - dm.reshape(-1, 1) - kc\n",
    "\n",
    "# renormalize coeffs to sum to correct absolute magnitude\n",
    "coeffs *= 10 ** ((mag.reshape(-1, 1) - amag) / -2.5)\n",
    "\n"
   ]
  },
  {
   "cell_type": "code",
   "execution_count": 12,
   "id": "2733a0cb-f01f-4ab9-8210-7ace70ba5bf1",
   "metadata": {},
   "outputs": [],
   "source": [
    "# Calculate observed and absolute magnitudes in desired bands\n",
    "# For this example, we'll use the DES filters\n",
    "\n",
    "filters = ['desy3/desy3std_g.par', 'desy3/desy3std_r.par',\n",
    "           'desy3/desy3std_i.par', 'desy3/desy3std_z.par',\n",
    "           'desy3/desy3_Y.par']\n",
    "\n",
    "filter_lambda, filter_pass = kcorr.load_filters(filters)\n",
    "\n",
    "# precompute integrals over bandpasses at grid of redshifts \n",
    "# in order to speed up calculation of fluxes for arbitrary\n",
    "# sets of coefficients\n",
    "rmatrix0 = kcorr.k_projection_table(filter_pass, filter_lambda,\n",
    "                                    [0.0] * len(filters))\n",
    "rmatrix = kcorr.k_projection_table(filter_pass, filter_lambda,\n",
    "                                   model.colorModel.band_shift)\n",
    "\n",
    "# compute \"rest\" frame flux (actual frame specified by band_shift parameter)\n",
    "aflux = k_reconstruct_maggies(rmatrix,\n",
    "                             coeffs.astype(np.float64),\n",
    "                             np.zeros_like(z).astype(np.float64),\n",
    "                             kcorr.zvals)\n",
    "\n",
    "# compute observed flux\n",
    "oflux = k_reconstruct_maggies(rmatrix0,\n",
    "                             coeffs.astype(np.float64),\n",
    "                             z.astype(np.float64),\n",
    "                             kcorr.zvals)\n",
    "\n",
    "kc = 2.5 * np.log10(amag / omag)\n",
    "omag = -2.5 * np.log10(oflux)\n",
    "amag = omag - dm.reshape(-1, 1) - kc\n"
   ]
  },
  {
   "cell_type": "code",
   "execution_count": 13,
   "id": "f47813fd-6eb5-4c04-9b73-f2c836f200c5",
   "metadata": {},
   "outputs": [
    {
     "data": {
      "text/plain": [
       "Text(0, 0.5, '$n(\\\\rm mag)$')"
      ]
     },
     "execution_count": 13,
     "metadata": {},
     "output_type": "execute_result"
    },
    {
     "data": {
      "image/png": "[encoded data removed]",
      "text/plain": [
       "<Figure size 432x288 with 1 Axes>"
      ]
     },
     "metadata": {
      "needs_background": "light"
     },
     "output_type": "display_data"
    }
   ],
   "source": [
    "for i in range(omag.shape[1]):\n",
    "    plt.hist(omag[:,i], np.linspace(12,25,100), histtype='step')\n",
    "\n",
    "plt.yscale('log')\n",
    "plt.xlabel(r'observed magnitude $[\\rm mag]$')\n",
    "plt.ylabel(r'$n(\\rm mag)$')"
   ]
  },
  {
   "cell_type": "code",
   "execution_count": null,
   "id": "c188385c-2208-4ab5-bbbf-fff627fe0c43",
   "metadata": {},
   "outputs": [],
   "source": []
  }
 ],
 "metadata": {
  "kernelspec": {
   "display_name": "addgals-stack",
   "language": "python",
   "name": "addgals-stack"
  },
  "language_info": {
   "codemirror_mode": {
    "name": "ipython",
    "version": 3
   },
   "file_extension": ".py",
   "mimetype": "text/x-python",
   "name": "python",
   "nbconvert_exporter": "python",
   "pygments_lexer": "ipython3",
   "version": "3.7.5"
  }
 },
 "nbformat": 4,
 "nbformat_minor": 5
}
